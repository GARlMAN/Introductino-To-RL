{
 "cells": [
  {
   "cell_type": "code",
   "execution_count": 167,
   "id": "847cb3b6",
   "metadata": {},
   "outputs": [],
   "source": [
    "import matplotlib.pyplot as plt\n",
    "import numpy as np\n",
    "import random\n",
    "from tqdm import tqdm"
   ]
  },
  {
   "cell_type": "code",
   "execution_count": 27,
   "id": "34ef69d1",
   "metadata": {},
   "outputs": [],
   "source": [
    "#fucntion to calculate the std and mean of the array\n",
    "def calulateMeanAndStd(lst):\n",
    "    arr = np.array(lst)\n",
    "    print(f'mean = {np.mean(arr)} std = {np.std(arr)}')"
   ]
  },
  {
   "cell_type": "code",
   "execution_count": 231,
   "id": "3fa6a530",
   "metadata": {},
   "outputs": [],
   "source": [
    "#tring to implement 10-bandit problem\n",
    "dataset = { 1 : [0, 3, 2, 0, 2, 0],\n",
    "            2 : [4, 5, 1, 5, 6, 0],\n",
    "            3 : [2, 0, 0, 0,3, 2],\n",
    "            4 : [4, 3, 1, 1, 4],\n",
    "            5 : [0, 0, 3, 0, 0, 5],\n",
    "            6 : [4, 1, 3 ,0, 1, 4, 2],\n",
    "            7 : [3, 6, 1, 3, 5, 0, 0],\n",
    "            8 : [4, 4, 4, 4, 4, 4, 5],\n",
    "            9 : [4, 1, 1, 1, 1, 5],\n",
    "            10 : [2, 4 ,2, 0, 0, 0, 5, 1, 1]}"
   ]
  },
  {
   "cell_type": "code",
   "execution_count": 232,
   "id": "1ffe8801",
   "metadata": {},
   "outputs": [
    {
     "name": "stdout",
     "output_type": "stream",
     "text": [
      "for leaver 1 mean = 1.1666666666666667 std = 1.2133516482134197\n",
      "for leaver 2 mean = 3.5 std = 2.217355782608345\n",
      "for leaver 3 mean = 1.1666666666666667 std = 1.2133516482134197\n",
      "for leaver 4 mean = 2.6 std = 1.3564659966250536\n",
      "for leaver 5 mean = 1.3333333333333333 std = 1.9720265943665387\n",
      "for leaver 6 mean = 2.142857142857143 std = 1.456862718169367\n",
      "for leaver 7 mean = 2.5714285714285716 std = 2.1946130708196026\n",
      "for leaver 8 mean = 4.142857142857143 std = 0.3499271061118826\n",
      "for leaver 9 mean = 2.1666666666666665 std = 1.674979270186815\n",
      "for leaver 10 mean = 1.6666666666666667 std = 1.6996731711975948\n"
     ]
    }
   ],
   "source": [
    "#all the values in the given data\n",
    "for data in dataset:\n",
    "    print(f'for leaver {data}', end = \" \")\n",
    "    calulateMeanAndStd(dataset[data])"
   ]
  },
  {
   "cell_type": "code",
   "execution_count": 233,
   "id": "3a35bde6",
   "metadata": {},
   "outputs": [],
   "source": [
    "#this is the storage class\n",
    "class storage:\n",
    "    def __init__(self, epsilon, dataset):\n",
    "        self.dataset = dataset\n",
    "        self.epsilon = epsilon\n",
    "        self.probablities = [0] * 11\n",
    "        self.probablities[0] = -100\n",
    "        self.reward_list = [[0, 0] for i in range(11) ] #index 0 is value and 1 is iterations\n",
    "        self.history = [] #track the history of rewards\n",
    "        self.number_interations = 0\n",
    "        self.total_reward = 0\n",
    "        self.mean = 0\n",
    "        \n",
    "    def greedy(self):\n",
    "        #finding the max value\n",
    "        max_value = max(self.probablities)\n",
    "        max_index = self.probablities.index(max_value)\n",
    "        \n",
    "        #picking a random value from that given case\n",
    "        ans = random.choice(self.dataset[max_index])\n",
    "        \n",
    "        #updating values \n",
    "        self.total_reward += ans\n",
    "        self.number_interations += 1\n",
    "        \n",
    "        #updating probablities\n",
    "        self.reward_list[max_index][1] += 1 #updating mean values\n",
    "        self.reward_list[max_index][0] += ans\n",
    "        self.probablities[max_index] = self.reward_list[max_index][0]/self.reward_list[max_index][1]        \n",
    "        #appeding to history\n",
    "        self.mean =  self.total_reward/ self.number_interations\n",
    "        self.history.append(self.mean)\n",
    "        \n",
    "        return ans\n",
    "    \n",
    "    \n",
    "    def exploration(self):\n",
    "        rand_index = random.randint(1,10)\n",
    "        ans = random.choice(self.dataset[rand_index])\n",
    "        \n",
    "        #updating values \n",
    "        self.total_reward += ans\n",
    "        self.number_interations += 1\n",
    "        \n",
    "        #updating probablities\n",
    "        self.reward_list[rand_index][1] += 1 #updating mean values\n",
    "        self.reward_list[rand_index][0] += ans\n",
    "        self.probablities[rand_index] = self.reward_list[rand_index][0]/self.reward_list[rand_index][1]\n",
    "        #appeding to history\n",
    "        self.mean =  self.total_reward/ self.number_interations\n",
    "        self.history.append(self.mean)\n",
    "        \n",
    "        return ans\n",
    "    \n",
    "    def train(self):\n",
    "        p = random.random()\n",
    "        if(p >= self.epsilon):\n",
    "            self.greedy()\n",
    "        else:\n",
    "            self.exploration()\n",
    "            "
   ]
  },
  {
   "cell_type": "code",
   "execution_count": 269,
   "id": "d6e2351f",
   "metadata": {},
   "outputs": [],
   "source": [
    "e0 = storage(0, dataset)\n",
    "e1 = storage(0.01, dataset)\n",
    "e2 = storage(0.1, dataset)\n",
    "\n"
   ]
  },
  {
   "cell_type": "code",
   "execution_count": 270,
   "id": "c3677f22",
   "metadata": {},
   "outputs": [
    {
     "name": "stderr",
     "output_type": "stream",
     "text": [
      "100%|███████████████████████████████████████████████████████████████████████████| 4000/4000 [00:00<00:00, 85275.65it/s]\n"
     ]
    }
   ],
   "source": [
    "for i in tqdm(range(int(4000))):\n",
    "    e0.train()\n",
    "    e1.train()\n",
    "    e2.train()"
   ]
  },
  {
   "cell_type": "code",
   "execution_count": 271,
   "id": "af954511",
   "metadata": {},
   "outputs": [
    {
     "data": {
      "text/plain": [
       "[<matplotlib.lines.Line2D at 0x1a7def4e9b0>]"
      ]
     },
     "execution_count": 271,
     "metadata": {},
     "output_type": "execute_result"
    },
    {
     "data": {
      "image/png": "[encoded data removed]",
      "text/plain": [
       "<Figure size 640x480 with 1 Axes>"
      ]
     },
     "metadata": {},
     "output_type": "display_data"
    }
   ],
   "source": [
    "plt.plot(e2.history)\n",
    "plt.plot(e0.history)\n",
    "plt.plot(e1.history)"
   ]
  },
  {
   "cell_type": "code",
   "execution_count": 268,
   "id": "2f00b921",
   "metadata": {},
   "outputs": [
    {
     "name": "stdout",
     "output_type": "stream",
     "text": [
      "1.1535 3.65625 3.90175\n"
     ]
    }
   ],
   "source": [
    "print(e0.mean, e1.mean, e2.mean)\n"
   ]
  },
  {
   "cell_type": "code",
   "execution_count": null,
   "id": "4f86146b",
   "metadata": {},
   "outputs": [],
   "source": []
  },
  {
   "cell_type": "code",
   "execution_count": null,
   "id": "4854b3a8",
   "metadata": {},
   "outputs": [],
   "source": []
  }
 ],
 "metadata": {
  "kernelspec": {
   "display_name": "tf",
   "language": "python",
   "name": "tf"
  },
  "language_info": {
   "codemirror_mode": {
    "name": "ipython",
    "version": 3
   },
   "file_extension": ".py",
   "mimetype": "text/x-python",
   "name": "python",
   "nbconvert_exporter": "python",
   "pygments_lexer": "ipython3",
   "version": "3.10.4"
  }
 },
 "nbformat": 4,
 "nbformat_minor": 5
}
